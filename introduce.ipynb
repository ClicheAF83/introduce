{
 "cells": [
  {
   "cell_type": "code",
   "execution_count": 2,
   "id": "344453af",
   "metadata": {},
   "outputs": [
    {
     "name": "stdout",
     "output_type": "stream",
     "text": [
      "Hi, my name is Lenny. I am 20 years old and I am a Male.\n"
     ]
    }
   ],
   "source": [
    "class Person:\n",
    "    def __init__(self, name = 'John/Jane', age = 'young/old', gender ='male/female'):\n",
    "        self.name = name\n",
    "        self.age = age\n",
    "        self.gender = gender\n",
    "\n",
    "    def introduce(self):\n",
    "        print(f\"Hi, my name is {self.name}. I am {self.age} years old and I am a {self.gender}.\")\n",
    "\n",
    "# Create an instance of the Person class(p1)\n",
    "p1 = Person('Lenny', 20,'Male' )\n",
    "\n",
    "# Call the introduce method to display the person's information\n",
    "p1.introduce()"
   ]
  },
  {
   "cell_type": "code",
   "execution_count": null,
   "id": "1cb3a625",
   "metadata": {},
   "outputs": [],
   "source": []
  }
 ],
 "metadata": {
  "kernelspec": {
   "display_name": "Python 3 (ipykernel)",
   "language": "python",
   "name": "python3"
  },
  "language_info": {
   "codemirror_mode": {
    "name": "ipython",
    "version": 3
   },
   "file_extension": ".py",
   "mimetype": "text/x-python",
   "name": "python",
   "nbconvert_exporter": "python",
   "pygments_lexer": "ipython3",
   "version": "3.10.9"
  }
 },
 "nbformat": 4,
 "nbformat_minor": 5
}
